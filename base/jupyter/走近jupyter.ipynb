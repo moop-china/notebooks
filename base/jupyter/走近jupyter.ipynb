{
 "cells": [
  {
   "cell_type": "markdown",
   "metadata": {},
   "source": [
    "## 1.简介\n",
    "\n",
    ">Jupyter Notebook是基于网页的用于交互计算的应用程序。其可被应用于全过程计算：开发、文档编写、运行代码和展示结果。——Jupyter Notebook官方介绍\n",
    "\n",
    "简而言之，Jupyter Notebook会以网页的形式被打开，我们可以在网页页面中直接编写代码和运行代码，代码的运行结果也会直接在代码块下显示。经常在写程序的时候会有一些思路，解释，分析，运行结果等等文字性内容，需要记下来，比较长的就不太适合在程序里面注释，记在其它地方又容易忘掉。Notebook完美地解决了这个问题。"
   ]
  },
  {
   "cell_type": "markdown",
   "metadata": {},
   "source": [
    "### 1.1 比较专业的解释\n",
    "Jupyter基于开放标准，在Web前端使用HTML和CSS的交互式计算，在后端采用可扩展的kernel架构，内部使用WebSocket和ZeroMQ进行通信交互。核心是通过IPython实现，由IPython提供终端，IPython内核提供的计算和通信的前端界面。\n",
    "\n",
    "- Notebook Document Format：基于JSON的开放文档格式，记录用户的会话(sessions)和代码、说明性的文本、方程以及富文本输出。\n",
    "- Interactive Computing Protocol：该协议用于连接Notebook和内核，基于JSON数据、ZMQ以及WebSockets。\n",
    "- Kernel：Jupyter的内核指的是后台计算的语言环境，是实际执行Notebook代码的地方，将输出返回给用户。"
   ]
  },
  {
   "cell_type": "markdown",
   "metadata": {},
   "source": [
    "### 1.2 通俗的解释\n",
    "\n",
    "简单地说，Jupyter的文件是后缀.ipynb的文本文件，有某种固定的格式，你的文件要上传到服务器上，才能执行。在服务器上由Notebook Server来处理各种请求，比如上传文件，下载各种拓展类型的格式（pdf，HTML等等），执行代码，插入代码……然后对于最困难最重要的程序运行，则由server递交给kernel执行，server只负责把kernel的运行结果以友好的方式展现出来。\n",
    "\n",
    "就好比server是服务员，你订的午饭和饮料都要问服务员要，找厕所找餐巾纸也问服务员要，然后服务员能解决的就直接解决，不能解决的比如做饭就交给后面的厨师kernel解决，但是他要负责告诉厨师要做什么和端菜上桌。"
   ]
  },
  {
   "cell_type": "markdown",
   "metadata": {},
   "source": [
    "## 2. jupyter平台特点\n",
    "\n",
    "1. Notebook可直接通过浏览器运行代码，同时在代码块下方展示运行结果。\n",
    "\n",
    "2. Notebook对代码编写说明文档或语句时，支持Markdown语法。\n",
    "\n",
    "- notebook支持使用LaTeX编写数学性说明。\n",
    "\n",
    "- Jupyter支持超过40中编程语言包括Python，R，Julia和Scala。\n",
    "\n",
    "- Notebook可以通过github，DropBox和Jupyter Notebook Viewer进行非常方便的分享。\n",
    "\n",
    "- 可以生成丰富的交互式输出：HTML，图像，视频，Latex和其它自定义类型。\n",
    "\n",
    "- 利用Python、R，和Scala等工具，与Spark、pandas、scikit-learn、ggplot2、TensorFlow等集成。\n",
    "\n",
    "- notebook中也可运行shell命令。\n",
    "\n",
    "- 可运行terminal和console窗口。\n",
    "\n",
    "- 文档管理方便"
   ]
  },
  {
   "cell_type": "markdown",
   "metadata": {},
   "source": [
    "## 3. 安装包"
   ]
  },
  {
   "cell_type": "markdown",
   "metadata": {},
   "source": [
    "我们已经在jupyter服务器上安装了很多常用包，个人运行过程中，如果遇到缺包，可自行安装。"
   ]
  },
  {
   "cell_type": "markdown",
   "metadata": {},
   "source": [
    "### 3.1 Python\n",
    "\n",
    "|  目的                          |  命令                                      |\n",
    "|:------------------------------|:-------------------------------------------|\n",
    "| 当你想暂时安装一个包时          | !pip install xxx                           |\n",
    "| 当你想为你的用户永久安装一个包时 | !pip install --user packeage 并且重启kernel |\n",
    "\n",
    "在任意的cell中执行都可以，但是建议用专用的notebook来安装包，或者是在每个notebook的import之前安装。\n",
    "\n",
    "注意！Python包在notebook中安装不成功时，尝试terminal里安装。"
   ]
  },
  {
   "cell_type": "markdown",
   "metadata": {},
   "source": [
    "### 3.2 R\n",
    "\n",
    "install.packages(\"xxx\")\n",
    "\n",
    "并且只能在notebook里面安装"
   ]
  }
 ],
 "metadata": {
  "kernelspec": {
   "display_name": "Python 3",
   "language": "python",
   "name": "python3"
  },
  "language_info": {
   "codemirror_mode": {
    "name": "ipython",
    "version": 3
   },
   "file_extension": ".py",
   "mimetype": "text/x-python",
   "name": "python",
   "nbconvert_exporter": "python",
   "pygments_lexer": "ipython3",
   "version": "3.7.1"
  }
 },
 "nbformat": 4,
 "nbformat_minor": 2
}
