{
 "cells": [
  {
   "cell_type": "markdown",
   "metadata": {},
   "source": [
    "# 1 两种编程模式\n",
    "## 1.1 python交互模式\n",
    "\n",
    "在cmd命令行或者是terminal终端中输入python，会出现```>>>```提示符，表示进入了交互模式，在Python交互模式下输入exit()并回车，就退出了Python交互模式。\n",
    "\n",
    "下面我们在交互模式下运行第一个python程序。\n",
    "\n",
    "输入```print(\"hello world\")```然后回车，就可以在黑窗中打印出来一句话，就是著名的“hello world”，就像这样：\n",
    "![like](data\\\\hello.png)\n",
    "\n",
    "尽管简单，但是这就是一个程序。"
   ]
  },
  {
   "cell_type": "markdown",
   "metadata": {},
   "source": [
    "## 1.2 文本模式\n",
    "\n",
    "在Python的交互式命令行写程序，好处是一下就能得到结果，坏处是没法保存，下次还想运行的时候，还得再敲一遍。\n",
    "\n",
    "所以，实际开发的时候，我们总是使用一个文本编辑器来写代码，写完了，保存为一个文件，这样，程序就可以反复运行了。\n",
    "\n",
    "简单地用右键新建文本文档，输入```print(\"hello world\")```，然后另存为的时候更改后缀，并更改编码为UTF-8，这非常重要，像这样：\n",
    "![like](data\\\\save_py.png)\n",
    "\n",
    "在命令行中切换到py文件所在的位置，运行 python hello.py 即可，如果你的文件名不同，可以自行调整。可以发现我们没有进入交互模式，依然得到了一行输出。"
   ]
  },
  {
   "cell_type": "markdown",
   "metadata": {},
   "source": [
    "# 2 jupyter的交互模式\n",
    "jupyter notebook 拥有更加方便的python交互模式，也就是现在呈现出来的样子，jupyter的使用方法会在另外一个地方讲解。这里只介绍基本的使用。\n",
    "\n",
    "在jupyter的页面中，用insert功能，也就是一个加号，就可以在下方新增一个代码框。本框是文本框，也叫做标记框，不能写代码。然后在代码框中写入```print(\"hello world\")```并按快捷键shift+enter，就可以直接得出输出。"
   ]
  },
  {
   "cell_type": "code",
   "execution_count": 1,
   "metadata": {},
   "outputs": [
    {
     "name": "stdout",
     "output_type": "stream",
     "text": [
      "hello world\n"
     ]
    }
   ],
   "source": [
    "print(\"hello world\")"
   ]
  },
  {
   "cell_type": "markdown",
   "metadata": {},
   "source": [
    "jupyter的模式非常方便直观，并且可以不按顺序地运行代码，同时观察文字和代码等等优点，缺点是ipynb文件只能在jupyter里运行。\n",
    "\n",
    "此后我们都以jupyter为例。\n",
    "\n",
    "至此python的第一个程序就完成了。"
   ]
  },
  {
   "cell_type": "markdown",
   "metadata": {},
   "source": []
  }
 ],
 "metadata": {
  "kernelspec": {
   "display_name": "Python 3",
   "language": "python",
   "name": "python3"
  },
  "language_info": {
   "codemirror_mode": {
    "name": "ipython",
    "version": 3
   },
   "file_extension": ".py",
   "mimetype": "text/x-python",
   "name": "python",
   "nbconvert_exporter": "python",
   "pygments_lexer": "ipython3",
   "version": "3.7.1"
  }
 },
 "nbformat": 4,
 "nbformat_minor": 2
}
