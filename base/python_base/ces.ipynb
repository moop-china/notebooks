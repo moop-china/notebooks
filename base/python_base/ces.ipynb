"在Python中用关键字import来引入某个模块，比如要引用模块math，就可以在文件最开始的地方用import math来引入。\n",
"形如:import module1,mudule2...\n",
"当解释器遇到import语句，如果模块在当前的搜索路径就会被导入。\n",
"还有一种常用方式，就是from ... import ...\n",
"那么在其他文件中就可以先import test，然后通过test.add(a,b)来调用了，当然也可以通过from test import add来引入
"import math"
"import math\n"
 "from math import sqrt\n",
  "from math import *\n",
"import numpy as np\n",
